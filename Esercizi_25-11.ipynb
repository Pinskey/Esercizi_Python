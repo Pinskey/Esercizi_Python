{
 "cells": [
  {
   "cell_type": "markdown",
   "metadata": {},
   "source": [
    "Esercizi vari "
   ]
  },
  {
   "cell_type": "code",
   "execution_count": 2,
   "metadata": {},
   "outputs": [
    {
     "name": "stdout",
     "output_type": "stream",
     "text": [
      "Fra Pi 24\n",
      "4 maggiore di 3\n",
      "Fine programma\n"
     ]
    }
   ],
   "source": [
    "nome = \"Fra\"\n",
    "cognome = \"Pi\"\n",
    "eta = 24\n",
    "\n",
    "print(nome, cognome, eta)\n",
    "\n",
    "x = 4\n",
    "if (x > 3):\n",
    "    print(x,\"maggiore di 3\")\n",
    "print(\"Fine programma\")"
   ]
  },
  {
   "cell_type": "markdown",
   "metadata": {},
   "source": [
    "Confronto con interi"
   ]
  },
  {
   "cell_type": "code",
   "execution_count": 1,
   "metadata": {},
   "outputs": [
    {
     "name": "stdout",
     "output_type": "stream",
     "text": [
      "x è maggiore di 3\n",
      "x è maggiore di y\n"
     ]
    }
   ],
   "source": [
    "x = int(input(\"Inserisci x (numero intero) \"))\n",
    "if x == 3:\n",
    "    print(\"x è uguale a 3\")\n",
    "elif x<3:\n",
    "    print(\"x è minore di 3\")\n",
    "else:\n",
    "    print(\"x è maggiore di 3\")\n",
    "\n",
    "y = int(input(\"inserisci y (numero intero) \"))\n",
    "\n",
    "if (x == y):\n",
    "    print(\"x e y sono uguali\")\n",
    "elif(x>y):\n",
    "    print(\"x è maggiore di y\")\n",
    "else:\n",
    "    print(\"x è minore di y\")"
   ]
  },
  {
   "cell_type": "markdown",
   "metadata": {},
   "source": [
    "Cella di esempio per if elif else"
   ]
  },
  {
   "cell_type": "code",
   "execution_count": 3,
   "metadata": {},
   "outputs": [
    {
     "name": "stdout",
     "output_type": "stream",
     "text": [
      "Adolescente\n"
     ]
    }
   ],
   "source": [
    "eta = 15\n",
    "if eta < 13:\n",
    "    print(\"Bambino\")\n",
    "elif 13<= eta < 18:\n",
    "    print(\"Adolescente\")\n",
    "else:\n",
    "    print(\"Adulto\")"
   ]
  },
  {
   "cell_type": "markdown",
   "metadata": {},
   "source": [
    "Cella con lista"
   ]
  },
  {
   "cell_type": "code",
   "execution_count": 4,
   "metadata": {},
   "outputs": [
    {
     "name": "stdout",
     "output_type": "stream",
     "text": [
      "La mela è nella lista della frutta\n"
     ]
    }
   ],
   "source": [
    "frutta = [\"mela\", \"banana\", \"uva\", \"pera\", \"melone\",\"ananas\"]\n",
    "if \"mela\" in frutta:\n",
    "    print(\"La mela è nella lista della frutta\")\n",
    "else:\n",
    "    print(\"La mela non è nella lista\")\n"
   ]
  },
  {
   "cell_type": "markdown",
   "metadata": {},
   "source": [
    "Lista password"
   ]
  },
  {
   "cell_type": "code",
   "execution_count": 6,
   "metadata": {},
   "outputs": [
    {
     "name": "stdout",
     "output_type": "stream",
     "text": [
      "accesso consentito\n"
     ]
    }
   ],
   "source": [
    "password = \"pippo\"\n",
    "if password == 'pippo':\n",
    "    print(\"accesso consentito\")\n",
    "else:\n",
    "    print(\"Accesso negato\")"
   ]
  },
  {
   "cell_type": "markdown",
   "metadata": {},
   "source": [
    "Ciclo while"
   ]
  },
  {
   "cell_type": "code",
   "execution_count": 7,
   "metadata": {},
   "outputs": [
    {
     "name": "stdout",
     "output_type": "stream",
     "text": [
      "0\n",
      "1\n",
      "2\n",
      "3\n",
      "4\n"
     ]
    }
   ],
   "source": [
    "i = 0\n",
    "while i < 5:\n",
    "    print(i)\n",
    "    i+=1"
   ]
  },
  {
   "cell_type": "markdown",
   "metadata": {},
   "source": [
    "Ciclo while parola"
   ]
  },
  {
   "cell_type": "code",
   "execution_count": 11,
   "metadata": {},
   "outputs": [
    {
     "name": "stdout",
     "output_type": "stream",
     "text": [
      "casa\n",
      "mattone\n",
      "stop\n"
     ]
    }
   ],
   "source": [
    "parola = \"\"\n",
    "while parola != \"stop\":\n",
    "    parola = input(\"Inserisci la parola: \")\n",
    "    print(parola)"
   ]
  },
  {
   "cell_type": "markdown",
   "metadata": {},
   "source": [
    "Ciclo for"
   ]
  },
  {
   "cell_type": "code",
   "execution_count": null,
   "metadata": {},
   "outputs": [
    {
     "name": "stdout",
     "output_type": "stream",
     "text": [
      "mela\n",
      "banana\n",
      "uva\n",
      "pera\n",
      "melone\n",
      "ananas\n"
     ]
    }
   ],
   "source": [
    "frutta = [\"mela\", \"banana\", \"uva\", \"pera\", \"melone\",\"ananas\"]\n",
    "for fruit in frutta:\n",
    "    print(fruit)"
   ]
  },
  {
   "cell_type": "code",
   "execution_count": 20,
   "metadata": {},
   "outputs": [
    {
     "name": "stdout",
     "output_type": "stream",
     "text": [
      "m\n",
      "e\n",
      "l\n",
      "a\n",
      "\n",
      "\n",
      "b\n",
      "a\n",
      "n\n",
      "a\n",
      "n\n",
      "a\n",
      "\n",
      "\n",
      "u\n",
      "v\n",
      "a\n",
      "\n",
      "\n",
      "p\n",
      "e\n",
      "r\n",
      "a\n",
      "\n",
      "\n",
      "m\n",
      "e\n",
      "l\n",
      "o\n",
      "n\n",
      "e\n",
      "\n",
      "\n",
      "a\n",
      "n\n",
      "a\n",
      "n\n",
      "a\n",
      "s\n",
      "\n",
      "\n"
     ]
    }
   ],
   "source": [
    "frutta = [\"mela\", \"banana\", \"uva\", \"pera\", \"melone\",\"ananas\"]\n",
    "i=0\n",
    "while i < len(frutta):\n",
    "    for carattere in frutta[i]:\n",
    "        print(carattere)\n",
    "    print(\"\\n\")\n",
    "    i += 1"
   ]
  },
  {
   "cell_type": "markdown",
   "metadata": {},
   "source": [
    "Libreria Random"
   ]
  },
  {
   "cell_type": "code",
   "execution_count": 33,
   "metadata": {},
   "outputs": [
    {
     "name": "stdout",
     "output_type": "stream",
     "text": [
      "94\n",
      "17\n",
      "84\n",
      "-58\n",
      "-74\n"
     ]
    }
   ],
   "source": [
    "import random\n",
    "\n",
    "i = 0\n",
    "\n",
    "while i<5:\n",
    "    num = random.randint(-100,100)\n",
    "    print(num)\n",
    "    i+= 1"
   ]
  },
  {
   "cell_type": "code",
   "execution_count": null,
   "metadata": {},
   "outputs": [
    {
     "name": "stdout",
     "output_type": "stream",
     "text": [
      "i due nuemri sonon uguali\n"
     ]
    }
   ],
   "source": [
    "num_1 = random.randint(-10,10)\n",
    "num_2 = random.randint(-10,10)\n",
    "\n",
    "if num_1<num_2:\n",
    "    print(num_1, \"è minore di\", num_2)\n",
    "elif num_1>num_2:\n",
    "    print(num_1,\"è maggiore di\",num_2)\n",
    "else:\n",
    "    print(\"i due nuemri sono uguali\")\n",
    "\n"
   ]
  },
  {
   "cell_type": "code",
   "execution_count": 50,
   "metadata": {},
   "outputs": [
    {
     "name": "stdout",
     "output_type": "stream",
     "text": [
      "10 è maggiore di -10\n"
     ]
    }
   ],
   "source": [
    "num_1 = int(input(\"Inserisci un numero intero: \"))\n",
    "num_2 = random.randint(-10,10)\n",
    "\n",
    "if num_1<num_2:\n",
    "    print(num_1, \"è minore di\", num_2)\n",
    "elif num_1>num_2:\n",
    "    print(num_1,\"è maggiore di\",num_2)\n",
    "else:\n",
    "    print(\"i due nuemri sono uguali\")"
   ]
  },
  {
   "cell_type": "code",
   "execution_count": 1,
   "metadata": {},
   "outputs": [],
   "source": [
    "#Ciao"
   ]
  },
  {
   "cell_type": "code",
   "execution_count": null,
   "metadata": {},
   "outputs": [],
   "source": []
  }
 ],
 "metadata": {
  "kernelspec": {
   "display_name": "Python 3",
   "language": "python",
   "name": "python3"
  },
  "language_info": {
   "codemirror_mode": {
    "name": "ipython",
    "version": 3
   },
   "file_extension": ".py",
   "mimetype": "text/x-python",
   "name": "python",
   "nbconvert_exporter": "python",
   "pygments_lexer": "ipython3",
   "version": "3.12.6"
  }
 },
 "nbformat": 4,
 "nbformat_minor": 2
}
